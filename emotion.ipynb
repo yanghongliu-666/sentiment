{
 "cells": [
  {
   "cell_type": "code",
   "execution_count": 6,
   "metadata": {},
   "outputs": [],
   "source": [
    "import pandas as pd\n",
    "import jieba\n",
    "import function as fun\n",
    "from pandas import DataFrame,Series\n",
    "from word_dict import posi_dict,nati_dict"
   ]
  },
  {
   "cell_type": "markdown",
   "metadata": {},
   "source": [
    "# 导入微博数据"
   ]
  },
  {
   "cell_type": "code",
   "execution_count": 7,
   "metadata": {},
   "outputs": [],
   "source": [
    "TRAIN_PATH = './data/train_dataset/'\n",
    "df_train = pd.read_csv(TRAIN_PATH+'nCoV_100k_train.labled.csv',engine ='python')"
   ]
  },
  {
   "cell_type": "markdown",
   "metadata": {},
   "source": [
    "# 对数据进行初步情感倾向分析工作"
   ]
  },
  {
   "cell_type": "code",
   "execution_count": 8,
   "metadata": {},
   "outputs": [],
   "source": [
    "for i in range(10000):\n",
    "  all_emotion_num = 0\n",
    "  posi_emotion_num = 0\n",
    "  nati_emotion_num = 0\n",
    "  temp_ci = jieba.lcut(df_train['微博中文内容'][i])\n",
    "  ju = fun.relation(temp_ci)\n",
    "  for j in range(len(temp_ci)):#遍历获得的分词\n",
    "    #进行情感因素的统计工作\n",
    "    if temp_ci[j] in posi_dict:\n",
    "      weight = check_before()#检查副词，获得权重\n",
    "      if weight == 0:\n",
    "        posi_emotion_num += 1\n",
    "      else:\n",
    "        posi_emotion_num += weight\n",
    "    if temp_ci[j] in nati_dict:\n",
    "      weight = check_before()\n",
    "      if weight == 0:\n",
    "        nati_emotion_num += 1\n",
    "      else:\n",
    "        nati_emotion_num += weight\n",
    "  posi_emotion_num *= ju\n",
    "  nati_emotion_num *= ju\n",
    "  #进行情感的判别\n",
    "  if posi_emotion_num > 0 and nati_emotion_num == 0:\n",
    "    all_emotion_num = 1\n",
    "  \n",
    "  elif nati_emotion_num > 0 and posi_emotion_num == 0:\n",
    "    all_emotion_num = -1\n",
    "  \n",
    "  elif posi_emotion_num - 2 > nati_emotion_num:\n",
    "    all_emotion_num = 1\n",
    "\n",
    "  elif nati_emotion_num - 2 > posi_emotion_num:\n",
    "    all_emotion_num = -1\n",
    "  #对特殊的情况进行处理\n",
    "  else:\n",
    "    if fun.decide_neu(temp_ci) == 0:\n",
    "      all_emotion = fun.decide_neu(temp_ci)#处理中性文本\n",
    "    elif fun.decide_neu(temp_ci) == 404:\n",
    "      if posi_emotion_num > nati_emotion_num:\n",
    "        all_emotion = 1\n",
    "      else:\n",
    "        all_emotion = -1"
   ]
  },
  {
   "cell_type": "code",
   "execution_count": null,
   "metadata": {},
   "outputs": [],
   "source": []
  }
 ],
 "metadata": {
  "kernelspec": {
   "display_name": "Python 3",
   "language": "python",
   "name": "python3"
  },
  "language_info": {
   "codemirror_mode": {
    "name": "ipython",
    "version": 3
   },
   "file_extension": ".py",
   "mimetype": "text/x-python",
   "name": "python",
   "nbconvert_exporter": "python",
   "pygments_lexer": "ipython3",
   "version": "3.7.6"
  }
 },
 "nbformat": 4,
 "nbformat_minor": 2
}
