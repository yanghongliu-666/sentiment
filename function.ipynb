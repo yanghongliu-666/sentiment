{
 "cells": [
  {
   "cell_type": "code",
   "execution_count": 1,
   "metadata": {},
   "outputs": [],
   "source": [
    "from word_dict import posi_dict,nati_dict,fuci_dict_1,fuci_dict_2,nodict,fanwendict\n",
    "import math"
   ]
  },
  {
   "cell_type": "markdown",
   "metadata": {},
   "source": [
    "# 判断中性词"
   ]
  },
  {
   "cell_type": "code",
   "execution_count": 2,
   "metadata": {},
   "outputs": [],
   "source": [
    "def decide_neu(cut_list):\n",
    "  pl_ans = posi_left_nagative_right(cut_list)\n",
    "  pr_ans = posi_right_nagative_left(cut_list)\n",
    "  if pl_ans and not pr_ans:\n",
    "    return 0\n",
    "  elif not pl_ans and pr_ans:\n",
    "    return 0\n",
    "  else:\n",
    "    return 404"
   ]
  },
  {
   "cell_type": "markdown",
   "metadata": {},
   "source": [
    "# 积极词在左，消极词在右的情况 "
   ]
  },
  {
   "cell_type": "code",
   "execution_count": 3,
   "metadata": {},
   "outputs": [],
   "source": [
    "def posi_left_nagative_right(cut_list):\n",
    "  position_of_positive = 0\n",
    "  position_of_nagative = 0\n",
    "  num = len(cut_list)\n",
    "  for i in range(num):\n",
    "    if cut_list(i) in posi_dict:\n",
    "      weight = check_before()\n",
    "      if weight == 0:\n",
    "        position_of_positive += i\n",
    "      else:\n",
    "        position_of_positive -= weight*i#特别正向左移\n",
    "    elif cut_list(i) in nati_dict:\n",
    "      weight = check.check_before()\n",
    "      if weight == 0:\n",
    "        position_of_nagative += i\n",
    "      else:\n",
    "        position_of_nagative += weight*i#特别负向右移\n",
    "  \n",
    "  if position_of_positive < position_of_nagative:\n",
    "    return 1\n",
    "  else:\n",
    "    return 0"
   ]
  },
  {
   "cell_type": "markdown",
   "metadata": {},
   "source": [
    "# 积极词在右，消极词在左的情况"
   ]
  },
  {
   "cell_type": "code",
   "execution_count": 7,
   "metadata": {},
   "outputs": [],
   "source": [
    "def posi_right_nagative_left(cut_list):\n",
    "  position_of_positive = 0\n",
    "  position_of_nagative = 0\n",
    "  num = len(cut_list)\n",
    "  for i in range(num):\n",
    "    if cut_list(i) in posi_dict:\n",
    "      weight = check_before()\n",
    "      if weight == 0:\n",
    "        position_of_positive += i\n",
    "      else:\n",
    "        position_of_positive += weight*i#特别正向右移\n",
    "    elif cut_list(i) in nati_dict:\n",
    "      weight = check.check_before()\n",
    "      if weight == 0:\n",
    "        position_of_nagative += i\n",
    "      else:\n",
    "        position_of_nagative -= weight*i#特别负向左移\n",
    "  \n",
    "  if position_of_positive > position_of_nagative:\n",
    "    return 1\n",
    "  else:\n",
    "    return 0"
   ]
  },
  {
   "cell_type": "markdown",
   "metadata": {},
   "source": [
    "# 对副词、否定词、以及相对位置的检查，以对情感进行修正"
   ]
  },
  {
   "cell_type": "code",
   "execution_count": 4,
   "metadata": {},
   "outputs": [],
   "source": [
    "def check_before(cut_list, pos):\n",
    "  numofno=0#否定词的数量\n",
    "  numoffu = 0#副词的数量\n",
    "  jioffu = 0#副词的极性\n",
    "  placeofno = 0#否定词的位置\n",
    "  placeoffu = 0#副词的位置\n",
    "  allno = 0#否定词的综合作用\n",
    "  tp =0#词性的综合作用\n",
    "  for i in range(pos-5,pos):\n",
    "    if cut_list[i] in nodict:\n",
    "      numofno += 1\n",
    "      if placeofno == 0:\n",
    "        placeofno = i\n",
    "    if cut_list[i] in fuci_dict_1:\n",
    "      numoffu += 1\n",
    "      jioffu = 3\n",
    "      if placeoffu == 0:\n",
    "        placeoffu = i\n",
    "    if cut_list[i] in fuci_dict_2:\n",
    "      numoffu += 1\n",
    "      jioffu = 2.1\n",
    "      if placeoffu == 0:\n",
    "        placeoffu = i\n",
    "  if numofno == 0:\n",
    "    allno = 1\n",
    "  else:\n",
    "    allno = math.pow(-1,numofno)\n",
    "  \n",
    "  if placeoffu < placeofno:\n",
    "    tp = -2\n",
    "  if placeoffu > placeofno:\n",
    "    tp = 0.5\n",
    "  else:\n",
    "    tp = 1\n",
    "  return tp*allno*jioffu"
   ]
  },
  {
   "cell_type": "markdown",
   "metadata": {},
   "source": [
    "# 判别句型因素"
   ]
  },
  {
   "cell_type": "code",
   "execution_count": null,
   "metadata": {},
   "outputs": [],
   "source": [
    "def relation(cut_list):\n",
    "  Hw = 0#感叹号的数量\n",
    "  Yw = 0#问号的数量\n",
    "  ci = 0#反问词的出现情况\n",
    "  fi = 1#综合的句型因素\n",
    "  for i in range(len(cut_list)):\n",
    "    if'!'== cut_list[i]:\n",
    "      Hw += 1\n",
    "    if '?' == cut_list:\n",
    "      Yw += 1\n",
    "    if cut_list[i] in fanwendict:\n",
    "      ci += 1\n",
    "  if Hw == 0:\n",
    "    fi *= 1\n",
    "  if Hw == 1 or Hw == 2:\n",
    "    fi*=2\n",
    "  if Yw>0 and ci>0:\n",
    "    fi *= -1\n",
    "  return fi\n",
    "   "
   ]
  }
 ],
 "metadata": {
  "kernelspec": {
   "display_name": "Python 3",
   "language": "python",
   "name": "python3"
  },
  "language_info": {
   "codemirror_mode": {
    "name": "ipython",
    "version": 3
   },
   "file_extension": ".py",
   "mimetype": "text/x-python",
   "name": "python",
   "nbconvert_exporter": "python",
   "pygments_lexer": "ipython3",
   "version": "3.7.6"
  }
 },
 "nbformat": 4,
 "nbformat_minor": 2
}
