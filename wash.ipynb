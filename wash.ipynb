{
 "cells": [
  {
   "cell_type": "code",
   "execution_count": null,
   "metadata": {},
   "outputs": [],
   "source": [
    "import pandas as pd\n",
    "import jieba\n",
    "from pandas import DataFrame,Series\n",
    "import numpy as np\n",
    "from word_dict import cov_dic"
   ]
  },
  {
   "cell_type": "code",
   "execution_count": null,
   "metadata": {},
   "outputs": [],
   "source": [
    "cov_dic = ['新冠','病毒','发烧']\n",
    "set_cov_dic = set(cov_dic)\n",
    "num_of_cov_webo = []\n",
    "num_of_normal_webo = []\n",
    "TRAIN_PATH = './data/train_dataset/'\n",
    "NEW_FILE_cov = 'cov_data.csv'\n",
    "NEW_FILE_nor = 'nor_data.csv'"
   ]
  },
  {
   "cell_type": "markdown",
   "metadata": {},
   "source": [
    "# 对数据进行初步清洗工作，把情感倾向为非数值或者数值有误的数据剔除"
   ]
  },
  {
   "cell_type": "code",
   "execution_count": 21,
   "metadata": {},
   "outputs": [],
   "source": [
    "df_train = pd.read_csv(TRAIN_PATH+'nCoV_100k_train.labled.csv',engine ='python')\n",
    "df_train = df_train[df_train['情感倾向'].isin(['-1','0','1'])]\n",
    "df_train['情感倾向'] = df_train['情感倾向'].astype(np.int32)"
   ]
  },
  {
   "cell_type": "markdown",
   "metadata": {},
   "source": [
    "# 筛选与疫情相关的微博"
   ]
  },
  {
   "cell_type": "code",
   "execution_count": 22,
   "metadata": {},
   "outputs": [],
   "source": [
    "for i in range(100):\n",
    "  temp_ci = jieba.lcut(df_train['微博中文内容'][i])\n",
    "  temp_ci = []\n",
    "  set_temp_ci = set(temp_ci)\n",
    "  if set_temp_ci & set_cov_dic:\n",
    "    num_of_cov_webo.append(i)\n",
    "  else:\n",
    "    num_of_normal_webo.append(i)"
   ]
  },
  {
   "cell_type": "markdown",
   "metadata": {},
   "source": [
    "# 存储数据的函数"
   ]
  },
  {
   "cell_type": "code",
   "execution_count": 34,
   "metadata": {},
   "outputs": [],
   "source": [
    "def save_to_csv(list_name, csv_name):\n",
    "  for i in list_name:\n",
    "    data = {\"微博id\":[],\n",
    "          \"微博发布时间\":[],\n",
    "          \"发布人账号\":[],\n",
    "          \"微博中文内容\":[],\n",
    "          \"微博图片\":[],\n",
    "          \"微博视频\":[],\n",
    "          \"情感倾向\":[]\n",
    "          }\n",
    "    data['微博id'].append(df_train['微博id'][i])\n",
    "    data['微博发布时间'].append(df_train['微博发布时间'][i])\n",
    "    data['发布人账号'].append(df_train['发布人账号'][i])\n",
    "    data['微博中文内容'].append(df_train['微博中文内容'][i])\n",
    "    data['微博图片'].append(df_train['微博图片'][i])\n",
    "    data['微博视频'].append(df_train['微博视频'][i])\n",
    "    data['情感倾向'].append(df_train['情感倾向'][i])\n",
    "    res=DataFrame(data, \n",
    "                  columns=[\"微博id\",\"微博发布时间\",\"发布人账号\",\n",
    "                          \"微博中文内容\",\"微博图片\",\"微博视频\",\"情感倾向\"])\n",
    "    res.to_csv(TRAIN_PATH + csv_name, header=False, index=False)"
   ]
  },
  {
   "cell_type": "code",
   "execution_count": 33,
   "metadata": {},
   "outputs": [],
   "source": [
    " "
   ]
  },
  {
   "cell_type": "code",
   "execution_count": null,
   "metadata": {},
   "outputs": [],
   "source": []
  }
 ],
 "metadata": {
  "kernelspec": {
   "display_name": "Python 3",
   "language": "python",
   "name": "python3"
  },
  "language_info": {
   "codemirror_mode": {
    "name": "ipython",
    "version": 3
   },
   "file_extension": ".py",
   "mimetype": "text/x-python",
   "name": "python",
   "nbconvert_exporter": "python",
   "pygments_lexer": "ipython3",
   "version": "3.7.6"
  }
 },
 "nbformat": 4,
 "nbformat_minor": 2
}
